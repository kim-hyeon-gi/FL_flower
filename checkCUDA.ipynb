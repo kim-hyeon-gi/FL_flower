{
 "cells": [
  {
   "cell_type": "code",
   "execution_count": 1,
   "metadata": {},
   "outputs": [
    {
     "data": {
      "text/plain": [
       "True"
      ]
     },
     "execution_count": 1,
     "metadata": {},
     "output_type": "execute_result"
    }
   ],
   "source": [
    "import torch\n",
    "torch.cuda.is_available()"
   ]
  },
  {
   "cell_type": "code",
   "execution_count": 19,
   "metadata": {},
   "outputs": [
    {
     "data": {
      "text/plain": [
       "tensor([[ 1.4175, -1.6927,  0.3563],\n",
       "        [-0.2580, -1.4198,  2.0559],\n",
       "        [-0.8909,  0.8677, -0.0892],\n",
       "        [-0.1695, -0.8295,  2.3951],\n",
       "        [ 0.3504,  0.0501,  1.3034]])"
      ]
     },
     "execution_count": 19,
     "metadata": {},
     "output_type": "execute_result"
    }
   ],
   "source": [
    "a = torch.randn(5,3)\n",
    "a"
   ]
  },
  {
   "cell_type": "code",
   "execution_count": 20,
   "metadata": {},
   "outputs": [],
   "source": [
    "u,s,v = torch.svd(a)"
   ]
  },
  {
   "cell_type": "code",
   "execution_count": 21,
   "metadata": {},
   "outputs": [],
   "source": [
    "\n",
    "s = torch.diag(s)"
   ]
  },
  {
   "cell_type": "code",
   "execution_count": 22,
   "metadata": {},
   "outputs": [
    {
     "data": {
      "text/plain": [
       "tensor([[ 1.4175, -1.6927,  0.3563],\n",
       "        [-0.2580, -1.4198,  2.0559],\n",
       "        [-0.8909,  0.8677, -0.0892],\n",
       "        [-0.1695, -0.8295,  2.3951],\n",
       "        [ 0.3504,  0.0501,  1.3034]])"
      ]
     },
     "execution_count": 22,
     "metadata": {},
     "output_type": "execute_result"
    }
   ],
   "source": [
    "u.matmul(s).matmul(v.T)"
   ]
  },
  {
   "cell_type": "code",
   "execution_count": 24,
   "metadata": {},
   "outputs": [
    {
     "ename": "RuntimeError",
     "evalue": "mat1 and mat2 shapes cannot be multiplied (1x5 and 3x3)",
     "output_type": "error",
     "traceback": [
      "\u001b[0;31m---------------------------------------------------------------------------\u001b[0m",
      "\u001b[0;31mRuntimeError\u001b[0m                              Traceback (most recent call last)",
      "Cell \u001b[0;32mIn[24], line 4\u001b[0m\n\u001b[1;32m      2\u001b[0m s \u001b[39m=\u001b[39m torch\u001b[39m.\u001b[39mdiag(s[:\u001b[39m2\u001b[39m])\n\u001b[1;32m      3\u001b[0m v\u001b[39m.\u001b[39mT[:\u001b[39m2\u001b[39m,:]\n\u001b[0;32m----> 4\u001b[0m u\u001b[39m.\u001b[39;49mmatmul(s)\u001b[39m.\u001b[39;49mmatmul(v\u001b[39m.\u001b[39;49mT)\n",
      "\u001b[0;31mRuntimeError\u001b[0m: mat1 and mat2 shapes cannot be multiplied (1x5 and 3x3)"
     ]
    }
   ],
   "source": [
    "u = u[:,:2]\n",
    "s = torch.diag(s[:2])\n",
    "v = v.T[:2,:]\n",
    "u.matmul(s).matmul(v)"
   ]
  },
  {
   "cell_type": "code",
   "execution_count": 30,
   "metadata": {},
   "outputs": [
    {
     "name": "stdout",
     "output_type": "stream",
     "text": [
      "tensor([[ 0.3533, -0.7808],\n",
      "        [ 0.6234,  0.1540],\n",
      "        [-0.1665,  0.4703],\n",
      "        [ 0.6166,  0.3408],\n",
      "        [ 0.2802,  0.1713]])\n",
      "tensor([3.9250, 2.2465])\n",
      "tensor([[ 0.1228, -0.5414,  0.8317],\n",
      "        [-0.6958,  0.5506,  0.4612]])\n"
     ]
    }
   ],
   "source": [
    "v = v.T[:2,:]\n",
    "print(u,s,v,sep=\"\\n\")"
   ]
  },
  {
   "cell_type": "code",
   "execution_count": 53,
   "metadata": {},
   "outputs": [
    {
     "ename": "AttributeError",
     "evalue": "'Config' object has no attribute 'vocab_size'",
     "output_type": "error",
     "traceback": [
      "\u001b[0;31m---------------------------------------------------------------------------\u001b[0m",
      "\u001b[0;31mAttributeError\u001b[0m                            Traceback (most recent call last)",
      "Cell \u001b[0;32mIn[53], line 5\u001b[0m\n\u001b[1;32m      2\u001b[0m \u001b[39mfrom\u001b[39;00m \u001b[39mutils\u001b[39;00m \u001b[39mimport\u001b[39;00m Config\n\u001b[1;32m      3\u001b[0m config \u001b[39m=\u001b[39m Config(json_path\u001b[39m=\u001b[39m\u001b[39m\"\u001b[39m\u001b[39mconfig/reddit_config.json\u001b[39m\u001b[39m\"\u001b[39m)\n\u001b[1;32m      4\u001b[0m model \u001b[39m=\u001b[39m LSTM(\n\u001b[0;32m----> 5\u001b[0m             config\u001b[39m.\u001b[39;49mvocab_size,\n\u001b[1;32m      6\u001b[0m             config\u001b[39m.\u001b[39membedding_dim,\n\u001b[1;32m      7\u001b[0m             config\u001b[39m.\u001b[39mhidden_dim,\n\u001b[1;32m      8\u001b[0m             config\u001b[39m.\u001b[39mnum_layers,\n\u001b[1;32m      9\u001b[0m             config\u001b[39m.\u001b[39mdropout_rate,\n\u001b[1;32m     10\u001b[0m             config\u001b[39m.\u001b[39mtie_weights,\n\u001b[1;32m     11\u001b[0m         )\n",
      "\u001b[0;31mAttributeError\u001b[0m: 'Config' object has no attribute 'vocab_size'"
     ]
    }
   ],
   "source": [
    "from model.nwp_lstm import LSTM\n",
    "from utils import Config\n",
    "config = Config(json_path=\"config/reddit_config.json\")\n",
    "model = LSTM(\n",
    "            config.vocab_size,\n",
    "            config.embedding_dim,\n",
    "            config.hidden_dim,\n",
    "            config.num_layers,\n",
    "            config.dropout_rate,\n",
    "            config.tie_weights,\n",
    "        )"
   ]
  },
  {
   "cell_type": "code",
   "execution_count": 74,
   "metadata": {},
   "outputs": [
    {
     "name": "stdout",
     "output_type": "stream",
     "text": [
      "(1, 1, 1)\n",
      "(2, 2, 2)\n",
      "(3, 3, 3)\n",
      "(4, 4, 4)\n"
     ]
    }
   ],
   "source": [
    "a = [1,2,3,4]\n",
    "b = [1,2,3,4]\n",
    "c = [1,2,3,4]\n",
    "for i in zip(a,b,c):\n",
    "    print(i)"
   ]
  },
  {
   "cell_type": "code",
   "execution_count": 55,
   "metadata": {},
   "outputs": [],
   "source": [
    "a =  {1:2,3:2}"
   ]
  },
  {
   "cell_type": "code",
   "execution_count": 56,
   "metadata": {},
   "outputs": [
    {
     "data": {
      "text/plain": [
       "2"
      ]
     },
     "execution_count": 56,
     "metadata": {},
     "output_type": "execute_result"
    }
   ],
   "source": [
    "len(a)"
   ]
  },
  {
   "cell_type": "code",
   "execution_count": 105,
   "metadata": {},
   "outputs": [],
   "source": [
    "import scipy\n",
    "a = scipy.sparse.random(5,5, density=0.8, format='csr', dtype=None, random_state=1, data_rvs=np.ones)"
   ]
  },
  {
   "cell_type": "code",
   "execution_count": 106,
   "metadata": {},
   "outputs": [
    {
     "name": "stdout",
     "output_type": "stream",
     "text": [
      "[ 0  4  8 12 16 20]\n"
     ]
    },
    {
     "data": {
      "text/plain": [
       "array([0, 2, 3, 4, 0, 1, 3, 4, 0, 1, 3, 4, 0, 2, 3, 4, 0, 2, 3, 4],\n",
       "      dtype=int32)"
      ]
     },
     "execution_count": 106,
     "metadata": {},
     "output_type": "execute_result"
    }
   ],
   "source": [
    "print(a.indptr)\n",
    "a.indices"
   ]
  },
  {
   "cell_type": "code",
   "execution_count": 84,
   "metadata": {},
   "outputs": [
    {
     "data": {
      "text/plain": [
       "array([[0., 0., 1., 0., 0.],\n",
       "       [0., 0., 0., 0., 1.],\n",
       "       [0., 0., 0., 1., 0.],\n",
       "       [1., 0., 1., 1., 0.],\n",
       "       [0., 0., 1., 1., 0.]])"
      ]
     },
     "execution_count": 84,
     "metadata": {},
     "output_type": "execute_result"
    }
   ],
   "source": [
    "scipy.sparse.random(5,5, density=0.3, format='csr', dtype=None, random_state=1, data_rvs=np.ones).toarray()"
   ]
  },
  {
   "cell_type": "code",
   "execution_count": 96,
   "metadata": {},
   "outputs": [
    {
     "data": {
      "text/plain": [
       "tensor([[ 0.3356, -0.7133, -0.2982, -0.0240,  0.5355],\n",
       "        [-0.1418, -0.1583,  0.7155, -2.3161,  1.3413],\n",
       "        [-0.7959,  0.9941,  0.2159, -0.2088,  0.2625],\n",
       "        [ 0.5578,  1.0400, -1.6111, -0.3579,  0.3106],\n",
       "        [ 0.7403,  0.4798, -0.5735,  0.6258,  0.5721]])"
      ]
     },
     "execution_count": 96,
     "metadata": {},
     "output_type": "execute_result"
    }
   ],
   "source": [
    "b = torch.randn(5,5)\n",
    "# b.to_sparse_csr()\n",
    "b"
   ]
  },
  {
   "cell_type": "code",
   "execution_count": 158,
   "metadata": {},
   "outputs": [],
   "source": [
    "b = torch.tensor([[ 0.3356, -0.7133, 0, -0.0240,  0.5355],\n",
    "        [-0.1418, -0.1583,  0.7155, -2.3161,  1.3413],\n",
    "        [0,  0,  0, 0,  0],\n",
    "        [ 0.5578,  1.0400, -1.6111, -0.3579,  0.3106],\n",
    "        [ 0.7403,  0.4798, -0.5735,  0.6258,  0.5721]])"
   ]
  },
  {
   "cell_type": "code",
   "execution_count": 159,
   "metadata": {},
   "outputs": [],
   "source": [
    "array = b.to_sparse_csr()"
   ]
  },
  {
   "cell_type": "code",
   "execution_count": 161,
   "metadata": {},
   "outputs": [
    {
     "data": {
      "text/plain": [
       "tensor(crow_indices=tensor([ 0,  4,  9,  9, 14, 19]),\n",
       "       col_indices=tensor([0, 1, 3, 4, 0, 1, 2, 3, 4, 0, 1, 2, 3, 4, 0, 1, 2, 3,\n",
       "                           4]),\n",
       "       values=tensor([ 0.3356, -0.7133, -0.0240,  0.5355, -0.1418, -0.1583,\n",
       "                       0.7155, -2.3161,  1.3413,  0.5578,  1.0400, -1.6111,\n",
       "                      -0.3579,  0.3106,  0.7403,  0.4798, -0.5735,  0.6258,\n",
       "                       0.5721]), size=(5, 5), nnz=19, layout=torch.sparse_csr)"
      ]
     },
     "execution_count": 161,
     "metadata": {},
     "output_type": "execute_result"
    }
   ],
   "source": [
    "array"
   ]
  },
  {
   "cell_type": "code",
   "execution_count": 162,
   "metadata": {},
   "outputs": [],
   "source": [
    "b = np.array([[ 0.3356, -0.7133, 0, -0.0240,  0.5355],\n",
    "        [-0.1418, -0.1583,  0.7155, -2.3161,  1.3413],\n",
    "        [-0.7959,  0.9941,  0.2159, 0,  0.2625],\n",
    "        [ 0.5578,  1.0400, -1.6111, -0.3579,  0.3106],\n",
    "        [ 0.7403,  0.4798, -0.5735,  0.6258,  0.5721]])"
   ]
  },
  {
   "cell_type": "code",
   "execution_count": 169,
   "metadata": {},
   "outputs": [],
   "source": [
    "z_list = np.where(b==0)"
   ]
  },
  {
   "cell_type": "code",
   "execution_count": 165,
   "metadata": {},
   "outputs": [
    {
     "data": {
      "text/plain": [
       "array([[0., 0., 1., 0., 0.],\n",
       "       [0., 0., 0., 0., 1.],\n",
       "       [0., 0., 0., 1., 0.],\n",
       "       [1., 0., 1., 1., 0.],\n",
       "       [0., 0., 1., 1., 0.]])"
      ]
     },
     "execution_count": 165,
     "metadata": {},
     "output_type": "execute_result"
    }
   ],
   "source": [
    "a = scipy.sparse.random(5,5, density=0.3, format='csr', dtype=None, random_state=1, data_rvs=np.ones)\n",
    "a.toarray()"
   ]
  },
  {
   "cell_type": "code",
   "execution_count": 166,
   "metadata": {},
   "outputs": [],
   "source": [
    "array = a.toarray()*b\n"
   ]
  },
  {
   "cell_type": "code",
   "execution_count": 125,
   "metadata": {},
   "outputs": [],
   "source": [
    "values = torch.tensor(array).to_sparse_csr().values()"
   ]
  },
  {
   "cell_type": "code",
   "execution_count": 168,
   "metadata": {},
   "outputs": [
    {
     "name": "stdout",
     "output_type": "stream",
     "text": [
      "[0 1 2 3 6 8]\n",
      "[2 4 3 0 2 3 2 3]\n",
      "tensor([ 1.3413,  0.5578, -1.6111, -0.3579, -0.5735,  0.6258],\n",
      "       dtype=torch.float64)\n"
     ]
    }
   ],
   "source": [
    "print(a.indptr)\n",
    "print(a.indices)\n",
    "print(values)"
   ]
  },
  {
   "cell_type": "code",
   "execution_count": null,
   "metadata": {},
   "outputs": [],
   "source": [
    "for t in z_list:\n",
    "    count = 0\n",
    "    for i in a.indptr[t[0]:]:\n",
    "        if t[1] == i:\n",
    "            values.insert(a.indptr[t[0]],0)\n",
    "        else:\n",
    "            count = count + 1\n",
    "    "
   ]
  },
  {
   "cell_type": "code",
   "execution_count": 127,
   "metadata": {},
   "outputs": [
    {
     "ename": "RuntimeError",
     "evalue": "The size of tensor a (8) must match the size of tensor b (6) at non-singleton dimension 0",
     "output_type": "error",
     "traceback": [
      "\u001b[0;31m---------------------------------------------------------------------------\u001b[0m",
      "\u001b[0;31mRuntimeError\u001b[0m                              Traceback (most recent call last)",
      "Cell \u001b[0;32mIn[127], line 1\u001b[0m\n\u001b[0;32m----> 1\u001b[0m torch\u001b[39m.\u001b[39;49msparse_csr_tensor(crow_indices\u001b[39m=\u001b[39;49ma\u001b[39m.\u001b[39;49mindptr, col_indices\u001b[39m=\u001b[39;49ma\u001b[39m.\u001b[39;49mindices, values\u001b[39m=\u001b[39;49mvalues)\u001b[39m.\u001b[39;49mto_dense()\n",
      "\u001b[0;31mRuntimeError\u001b[0m: The size of tensor a (8) must match the size of tensor b (6) at non-singleton dimension 0"
     ]
    }
   ],
   "source": [
    "\n",
    "torch.sparse_csr_tensor(crow_indices=a.indptr, col_indices=a.indices, values=values).to_dense()\n",
    "        \n",
    "    "
   ]
  },
  {
   "cell_type": "code",
   "execution_count": 152,
   "metadata": {},
   "outputs": [
    {
     "data": {
      "text/plain": [
       "array([[ 0.    , -0.    ,  0.    , -0.    ,  0.    ],\n",
       "       [-0.    , -0.    ,  0.    , -0.    ,  1.3413],\n",
       "       [-0.    ,  0.    ,  0.    ,  0.    ,  0.    ],\n",
       "       [ 0.5578,  0.    , -1.6111, -0.3579,  0.    ],\n",
       "       [ 0.    ,  0.    , -0.5735,  0.6258,  0.    ]])"
      ]
     },
     "execution_count": 152,
     "metadata": {},
     "output_type": "execute_result"
    }
   ],
   "source": [
    "array"
   ]
  },
  {
   "cell_type": "code",
   "execution_count": 154,
   "metadata": {},
   "outputs": [
    {
     "data": {
      "text/plain": [
       "array([[0., 0., 1., 0., 0.],\n",
       "       [0., 0., 0., 0., 1.],\n",
       "       [0., 0., 0., 1., 0.],\n",
       "       [1., 0., 1., 1., 0.],\n",
       "       [0., 0., 1., 1., 0.]])"
      ]
     },
     "execution_count": 154,
     "metadata": {},
     "output_type": "execute_result"
    }
   ],
   "source": [
    "a.toarray()"
   ]
  },
  {
   "cell_type": "code",
   "execution_count": null,
   "metadata": {},
   "outputs": [],
   "source": []
  }
 ],
 "metadata": {
  "kernelspec": {
   "display_name": "FL",
   "language": "python",
   "name": "python3"
  },
  "language_info": {
   "codemirror_mode": {
    "name": "ipython",
    "version": 3
   },
   "file_extension": ".py",
   "mimetype": "text/x-python",
   "name": "python",
   "nbconvert_exporter": "python",
   "pygments_lexer": "ipython3",
   "version": "3.9.0"
  },
  "orig_nbformat": 4,
  "vscode": {
   "interpreter": {
    "hash": "9c0b54d0d1fd40e33843d7577efe931505899bc37e88cd84c8efe38f8fdd2dbd"
   }
  }
 },
 "nbformat": 4,
 "nbformat_minor": 2
}
