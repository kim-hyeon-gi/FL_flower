{
 "cells": [
  {
   "cell_type": "code",
   "execution_count": null,
   "metadata": {},
   "outputs": [],
   "source": [
    "import torch\n",
    "import torch.nn as nn\n",
    "import random\n",
    "class Net(nn.Module):\n",
    "    def __init__(self) -> None:\n",
    "        super(Net, self).__init__()\n",
    "        self.features = nn.Sequential(\n",
    "            nn.Conv2d(3, 96, kernel_size=3, stride=1, padding=1),\n",
    "            nn.ReLU(inplace=True),\n",
    "            nn.Conv2d(96, 96, kernel_size=3, stride=1, padding=1),\n",
    "            nn.ReLU(inplace=True),\n",
    "            nn.Conv2d(96, 96, kernel_size=3, stride=2, padding=1),\n",
    "            nn.ReLU(inplace=True),\n",
    "            nn.Dropout(0.5),\n",
    "            nn.Conv2d(96, 192, kernel_size=3, stride=1, padding=1),\n",
    "            nn.ReLU(inplace=True),\n",
    "            nn.Conv2d(192, 192, kernel_size=3, stride=1, padding=1),\n",
    "            nn.ReLU(inplace=True),\n",
    "            nn.Conv2d(192, 192, kernel_size=3, stride=2, padding=1),\n",
    "            nn.ReLU(inplace=True),\n",
    "            nn.Dropout(0.5),\n",
    "            nn.Conv2d(192, 192, kernel_size=3, stride=1, padding=0),\n",
    "            nn.ReLU(inplace=True),\n",
    "            nn.Conv2d(192, 192, kernel_size=1, stride=1, padding=0),\n",
    "            nn.ReLU(inplace=True),\n",
    "            nn.Conv2d(192, 10, kernel_size=1, stride=1, padding=0),\n",
    "            nn.ReLU(inplace=True),\n",
    "            nn.AvgPool2d(6, 6),\n",
    "        )\n",
    "\n",
    "    def forward(self, x):\n",
    "        x = self.features(x)\n",
    "        x = x.view(x.size(0), -1)\n",
    "        return x\n",
    "    \n",
    "from utils import get_parameters\n",
    "\n",
    "shape_2d = [(96, 27), (1, 96), (96, 864), (1, 96), (96, 864), (1, 96), (192, 864), (1, 192), (192, 1728), (1, 192), (192, 1728), (1, 192), (192, 1728), (1, 192), (192, 192), (1, 192), (10, 192), (1, 10)]\n",
    "p_value = [13, 1, 48, 1, 48, 1, 96, 1, 96, 1, 96, 1, 96, 1, 96, 1, 5, 1]\n",
    "rand = [random.randint(1, 9999) for _ in range(len(shape_2d))]\n",
    "U = [\n",
    "    torch.randn(\n",
    "        (size[0], p),\n",
    "        generator=torch.Generator().manual_seed(n),\n",
    "        requires_grad=False,\n",
    "    ).to(\"cuda\")\n",
    "    for size, p, n in zip(shape_2d, p_value, rand)\n",
    "]\n",
    "W = [val.to(\"cuda\") for _, val in net.state_dict().items()]\n",
    "V = []\n",
    "for u, w, size in zip(U, W, shape_2d):\n",
    "    pinverse = torch.mm(torch.linalg.inv(torch.mm(u.T, u)), u.T)\n",
    "    w = w.view(size)\n",
    "    V.append(torch.mm(pinverse, w))"
   ]
  }
 ],
 "metadata": {
  "kernelspec": {
   "display_name": "FL",
   "language": "python",
   "name": "python3"
  },
  "language_info": {
   "codemirror_mode": {
    "name": "ipython",
    "version": 3
   },
   "file_extension": ".py",
   "mimetype": "text/x-python",
   "name": "python",
   "nbconvert_exporter": "python",
   "pygments_lexer": "ipython3",
   "version": "3.9.0"
  },
  "orig_nbformat": 4,
  "vscode": {
   "interpreter": {
    "hash": "9c0b54d0d1fd40e33843d7577efe931505899bc37e88cd84c8efe38f8fdd2dbd"
   }
  }
 },
 "nbformat": 4,
 "nbformat_minor": 2
}
