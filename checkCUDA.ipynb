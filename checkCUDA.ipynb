{
 "cells": [
  {
   "cell_type": "code",
   "execution_count": 1,
   "metadata": {},
   "outputs": [
    {
     "data": {
      "text/plain": [
       "True"
      ]
     },
     "execution_count": 1,
     "metadata": {},
     "output_type": "execute_result"
    }
   ],
   "source": [
    "import torch\n",
    "torch.cuda.is_available()"
   ]
  },
  {
   "cell_type": "code",
   "execution_count": 19,
   "metadata": {},
   "outputs": [
    {
     "data": {
      "text/plain": [
       "tensor([[ 1.4175, -1.6927,  0.3563],\n",
       "        [-0.2580, -1.4198,  2.0559],\n",
       "        [-0.8909,  0.8677, -0.0892],\n",
       "        [-0.1695, -0.8295,  2.3951],\n",
       "        [ 0.3504,  0.0501,  1.3034]])"
      ]
     },
     "execution_count": 19,
     "metadata": {},
     "output_type": "execute_result"
    }
   ],
   "source": [
    "a = torch.randn(5,3)\n",
    "a"
   ]
  },
  {
   "cell_type": "code",
   "execution_count": 20,
   "metadata": {},
   "outputs": [],
   "source": [
    "u,s,v = torch.svd(a)"
   ]
  },
  {
   "cell_type": "code",
   "execution_count": 21,
   "metadata": {},
   "outputs": [],
   "source": [
    "\n",
    "s = torch.diag(s)"
   ]
  },
  {
   "cell_type": "code",
   "execution_count": 22,
   "metadata": {},
   "outputs": [
    {
     "data": {
      "text/plain": [
       "tensor([[ 1.4175, -1.6927,  0.3563],\n",
       "        [-0.2580, -1.4198,  2.0559],\n",
       "        [-0.8909,  0.8677, -0.0892],\n",
       "        [-0.1695, -0.8295,  2.3951],\n",
       "        [ 0.3504,  0.0501,  1.3034]])"
      ]
     },
     "execution_count": 22,
     "metadata": {},
     "output_type": "execute_result"
    }
   ],
   "source": [
    "u.matmul(s).matmul(v.T)"
   ]
  },
  {
   "cell_type": "code",
   "execution_count": 24,
   "metadata": {},
   "outputs": [
    {
     "ename": "RuntimeError",
     "evalue": "mat1 and mat2 shapes cannot be multiplied (1x5 and 3x3)",
     "output_type": "error",
     "traceback": [
      "\u001b[0;31m---------------------------------------------------------------------------\u001b[0m",
      "\u001b[0;31mRuntimeError\u001b[0m                              Traceback (most recent call last)",
      "Cell \u001b[0;32mIn[24], line 4\u001b[0m\n\u001b[1;32m      2\u001b[0m s \u001b[39m=\u001b[39m torch\u001b[39m.\u001b[39mdiag(s[:\u001b[39m2\u001b[39m])\n\u001b[1;32m      3\u001b[0m v\u001b[39m.\u001b[39mT[:\u001b[39m2\u001b[39m,:]\n\u001b[0;32m----> 4\u001b[0m u\u001b[39m.\u001b[39;49mmatmul(s)\u001b[39m.\u001b[39;49mmatmul(v\u001b[39m.\u001b[39;49mT)\n",
      "\u001b[0;31mRuntimeError\u001b[0m: mat1 and mat2 shapes cannot be multiplied (1x5 and 3x3)"
     ]
    }
   ],
   "source": [
    "u = u[:,:2]\n",
    "s = torch.diag(s[:2])\n",
    "v = v.T[:2,:]\n",
    "u.matmul(s).matmul(v)"
   ]
  },
  {
   "cell_type": "code",
   "execution_count": 30,
   "metadata": {},
   "outputs": [
    {
     "name": "stdout",
     "output_type": "stream",
     "text": [
      "tensor([[ 0.3533, -0.7808],\n",
      "        [ 0.6234,  0.1540],\n",
      "        [-0.1665,  0.4703],\n",
      "        [ 0.6166,  0.3408],\n",
      "        [ 0.2802,  0.1713]])\n",
      "tensor([3.9250, 2.2465])\n",
      "tensor([[ 0.1228, -0.5414,  0.8317],\n",
      "        [-0.6958,  0.5506,  0.4612]])\n"
     ]
    }
   ],
   "source": [
    "v = v.T[:2,:]\n",
    "print(u,s,v,sep=\"\\n\")"
   ]
  },
  {
   "cell_type": "code",
   "execution_count": 52,
   "metadata": {},
   "outputs": [],
   "source": [
    "from model.nwp_lstm import LSTM\n",
    "from utils import Config\n",
    "config = Config(json_path=\"config/reddit_config.json\")\n",
    "model = LSTM(\n",
    "            config.vocab_size,\n",
    "            config.embedding_dim,\n",
    "            config.hidden_dim,\n",
    "            config.num_layers,\n",
    "            config.dropout_rate,\n",
    "            config.tie_weights,\n",
    "        )"
   ]
  },
  {
   "cell_type": "code",
   "execution_count": null,
   "metadata": {},
   "outputs": [],
   "source": []
  }
 ],
 "metadata": {
  "kernelspec": {
   "display_name": "FL",
   "language": "python",
   "name": "python3"
  },
  "language_info": {
   "codemirror_mode": {
    "name": "ipython",
    "version": 3
   },
   "file_extension": ".py",
   "mimetype": "text/x-python",
   "name": "python",
   "nbconvert_exporter": "python",
   "pygments_lexer": "ipython3",
   "version": "3.9.0"
  },
  "orig_nbformat": 4,
  "vscode": {
   "interpreter": {
    "hash": "9c0b54d0d1fd40e33843d7577efe931505899bc37e88cd84c8efe38f8fdd2dbd"
   }
  }
 },
 "nbformat": 4,
 "nbformat_minor": 2
}
