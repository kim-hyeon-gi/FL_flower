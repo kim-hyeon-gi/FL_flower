{
 "cells": [
  {
   "cell_type": "code",
   "execution_count": 1,
   "metadata": {},
   "outputs": [],
   "source": [
    "import torch"
   ]
  },
  {
   "cell_type": "code",
   "execution_count": 4,
   "metadata": {},
   "outputs": [
    {
     "data": {
      "text/plain": [
       "tensor([[ 1.5437, -0.7539,  0.9383,  0.4206,  0.5272],\n",
       "        [-0.1267, -1.4977, -1.6032,  1.4548, -0.5496],\n",
       "        [-0.7722, -0.6839,  1.1598,  0.4291,  0.1443],\n",
       "        [ 1.0753, -0.3464, -0.7403,  1.0806, -0.7035],\n",
       "        [-1.2089, -0.6940,  0.6758,  0.1485,  0.9659]])"
      ]
     },
     "execution_count": 4,
     "metadata": {},
     "output_type": "execute_result"
    }
   ],
   "source": [
    "dense = torch.randn(5,5)\n",
    "dense"
   ]
  },
  {
   "cell_type": "code",
   "execution_count": 5,
   "metadata": {},
   "outputs": [
    {
     "data": {
      "text/plain": [
       "tensor(crow_indices=tensor([ 0,  5, 10, 15, 20, 25]),\n",
       "       col_indices=tensor([0, 1, 2, 3, 4, 0, 1, 2, 3, 4, 0, 1, 2, 3, 4, 0, 1, 2,\n",
       "                           3, 4, 0, 1, 2, 3, 4]),\n",
       "       values=tensor([ 1.5437, -0.7539,  0.9383,  0.4206,  0.5272, -0.1267,\n",
       "                      -1.4977, -1.6032,  1.4548, -0.5496, -0.7722, -0.6839,\n",
       "                       1.1598,  0.4291,  0.1443,  1.0753, -0.3464, -0.7403,\n",
       "                       1.0806, -0.7035, -1.2089, -0.6940,  0.6758,  0.1485,\n",
       "                       0.9659]), size=(5, 5), nnz=25, layout=torch.sparse_csr)"
      ]
     },
     "execution_count": 5,
     "metadata": {},
     "output_type": "execute_result"
    }
   ],
   "source": [
    "sparse = dense.to_sparse_csr()\n",
    "sparse"
   ]
  },
  {
   "cell_type": "code",
   "execution_count": 6,
   "metadata": {},
   "outputs": [
    {
     "ename": "NameError",
     "evalue": "name 'bytes_io' is not defined",
     "output_type": "error",
     "traceback": [
      "\u001b[0;31m---------------------------------------------------------------------------\u001b[0m",
      "\u001b[0;31mNameError\u001b[0m                                 Traceback (most recent call last)",
      "Cell \u001b[0;32mIn[6], line 3\u001b[0m\n\u001b[1;32m      1\u001b[0m \u001b[39mimport\u001b[39;00m \u001b[39mnumpy\u001b[39;00m \u001b[39mas\u001b[39;00m \u001b[39mnp\u001b[39;00m\n\u001b[1;32m      2\u001b[0m np\u001b[39m.\u001b[39msavez(\n\u001b[0;32m----> 3\u001b[0m             bytes_io,  \u001b[39m# type: ignore\u001b[39;00m\n\u001b[1;32m      4\u001b[0m             crow_indices\u001b[39m=\u001b[39msparse\u001b[39m.\u001b[39mcrow_indices(),\n\u001b[1;32m      5\u001b[0m             col_indices\u001b[39m=\u001b[39msparse\u001b[39m.\u001b[39mcol_indices(),\n\u001b[1;32m      6\u001b[0m             values\u001b[39m=\u001b[39msparse\u001b[39m.\u001b[39mvalues(),\n\u001b[1;32m      7\u001b[0m             allow_pickle\u001b[39m=\u001b[39m\u001b[39mFalse\u001b[39;00m,\n\u001b[1;32m      8\u001b[0m         )\n",
      "\u001b[0;31mNameError\u001b[0m: name 'bytes_io' is not defined"
     ]
    }
   ],
   "source": [
    "import numpy as np\n",
    "from io import BytesIO\n",
    "bytes_io = BytesIO()\n",
    "np.savez(\n",
    "            bytes_io,  # type: ignore\n",
    "            crow_indices=sparse.crow_indices(),\n",
    "            col_indices=sparse.col_indices(),\n",
    "            values=sparse.values(),\n",
    "            allow_pickle=False,\n",
    "        )"
   ]
  },
  {
   "cell_type": "code",
   "execution_count": null,
   "metadata": {},
   "outputs": [],
   "source": []
  }
 ],
 "metadata": {
  "kernelspec": {
   "display_name": "FL",
   "language": "python",
   "name": "python3"
  },
  "language_info": {
   "codemirror_mode": {
    "name": "ipython",
    "version": 3
   },
   "file_extension": ".py",
   "mimetype": "text/x-python",
   "name": "python",
   "nbconvert_exporter": "python",
   "pygments_lexer": "ipython3",
   "version": "3.9.0"
  },
  "orig_nbformat": 4,
  "vscode": {
   "interpreter": {
    "hash": "9c0b54d0d1fd40e33843d7577efe931505899bc37e88cd84c8efe38f8fdd2dbd"
   }
  }
 },
 "nbformat": 4,
 "nbformat_minor": 2
}
